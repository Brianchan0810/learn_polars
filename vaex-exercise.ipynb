{
 "cells": [
  {
   "cell_type": "code",
   "execution_count": 89,
   "id": "f7ef7ccd-e21b-4106-ae31-b76799e611da",
   "metadata": {},
   "outputs": [],
   "source": [
    "import pandas as pd\n",
    "import numpy as np\n",
    "from datetime import datetime\n",
    "import vaex"
   ]
  },
  {
   "cell_type": "markdown",
   "id": "8f827bf9-5c25-445b-856b-4c86b4f7aae9",
   "metadata": {},
   "source": [
    "## remarks:\n",
    "### currently no fill null strategy, no function for converting string to datetime, no two datetime direct subtraction, must fill all the nulls before do aggregation\n",
    "### Therefore need to do it in pandas first"
   ]
  },
  {
   "cell_type": "code",
   "execution_count": 20,
   "id": "e3c0bad3-360c-46f1-9942-8d0d3a3b827a",
   "metadata": {},
   "outputs": [
    {
     "data": {
      "text/html": [
       "<div>\n",
       "<style scoped>\n",
       "    .dataframe tbody tr th:only-of-type {\n",
       "        vertical-align: middle;\n",
       "    }\n",
       "\n",
       "    .dataframe tbody tr th {\n",
       "        vertical-align: top;\n",
       "    }\n",
       "\n",
       "    .dataframe thead th {\n",
       "        text-align: right;\n",
       "    }\n",
       "</style>\n",
       "<table border=\"1\" class=\"dataframe\">\n",
       "  <thead>\n",
       "    <tr style=\"text-align: right;\">\n",
       "      <th></th>\n",
       "      <th>col0</th>\n",
       "      <th>col1</th>\n",
       "      <th>col2</th>\n",
       "      <th>col3</th>\n",
       "      <th>col4</th>\n",
       "      <th>col5</th>\n",
       "      <th>col6</th>\n",
       "      <th>col7</th>\n",
       "      <th>col8</th>\n",
       "      <th>col9</th>\n",
       "      <th>...</th>\n",
       "      <th>col490</th>\n",
       "      <th>col491</th>\n",
       "      <th>col492</th>\n",
       "      <th>col493</th>\n",
       "      <th>col494</th>\n",
       "      <th>col495</th>\n",
       "      <th>col496</th>\n",
       "      <th>col497</th>\n",
       "      <th>col498</th>\n",
       "      <th>col499</th>\n",
       "    </tr>\n",
       "  </thead>\n",
       "  <tbody>\n",
       "    <tr>\n",
       "      <th>0</th>\n",
       "      <td>71</td>\n",
       "      <td>45</td>\n",
       "      <td>68</td>\n",
       "      <td>82</td>\n",
       "      <td>84</td>\n",
       "      <td>32</td>\n",
       "      <td>56</td>\n",
       "      <td>78</td>\n",
       "      <td>62</td>\n",
       "      <td>55</td>\n",
       "      <td>...</td>\n",
       "      <td>97</td>\n",
       "      <td>41</td>\n",
       "      <td>93</td>\n",
       "      <td>57</td>\n",
       "      <td>9</td>\n",
       "      <td>70</td>\n",
       "      <td>77</td>\n",
       "      <td>62</td>\n",
       "      <td>69</td>\n",
       "      <td>21</td>\n",
       "    </tr>\n",
       "    <tr>\n",
       "      <th>1</th>\n",
       "      <td>24</td>\n",
       "      <td>5</td>\n",
       "      <td>70</td>\n",
       "      <td>48</td>\n",
       "      <td>8</td>\n",
       "      <td>19</td>\n",
       "      <td>82</td>\n",
       "      <td>7</td>\n",
       "      <td>17</td>\n",
       "      <td>18</td>\n",
       "      <td>...</td>\n",
       "      <td>42</td>\n",
       "      <td>34</td>\n",
       "      <td>2</td>\n",
       "      <td>54</td>\n",
       "      <td>40</td>\n",
       "      <td>68</td>\n",
       "      <td>36</td>\n",
       "      <td>9</td>\n",
       "      <td>89</td>\n",
       "      <td>41</td>\n",
       "    </tr>\n",
       "    <tr>\n",
       "      <th>2</th>\n",
       "      <td>54</td>\n",
       "      <td>64</td>\n",
       "      <td>38</td>\n",
       "      <td>70</td>\n",
       "      <td>64</td>\n",
       "      <td>73</td>\n",
       "      <td>80</td>\n",
       "      <td>97</td>\n",
       "      <td>9</td>\n",
       "      <td>10</td>\n",
       "      <td>...</td>\n",
       "      <td>30</td>\n",
       "      <td>44</td>\n",
       "      <td>73</td>\n",
       "      <td>14</td>\n",
       "      <td>63</td>\n",
       "      <td>99</td>\n",
       "      <td>84</td>\n",
       "      <td>17</td>\n",
       "      <td>49</td>\n",
       "      <td>92</td>\n",
       "    </tr>\n",
       "    <tr>\n",
       "      <th>3</th>\n",
       "      <td>86</td>\n",
       "      <td>54</td>\n",
       "      <td>59</td>\n",
       "      <td>9</td>\n",
       "      <td>87</td>\n",
       "      <td>23</td>\n",
       "      <td>73</td>\n",
       "      <td>88</td>\n",
       "      <td>69</td>\n",
       "      <td>15</td>\n",
       "      <td>...</td>\n",
       "      <td>28</td>\n",
       "      <td>74</td>\n",
       "      <td>38</td>\n",
       "      <td>22</td>\n",
       "      <td>58</td>\n",
       "      <td>84</td>\n",
       "      <td>86</td>\n",
       "      <td>48</td>\n",
       "      <td>76</td>\n",
       "      <td>47</td>\n",
       "    </tr>\n",
       "    <tr>\n",
       "      <th>4</th>\n",
       "      <td>68</td>\n",
       "      <td>29</td>\n",
       "      <td>71</td>\n",
       "      <td>57</td>\n",
       "      <td>61</td>\n",
       "      <td>27</td>\n",
       "      <td>25</td>\n",
       "      <td>3</td>\n",
       "      <td>25</td>\n",
       "      <td>69</td>\n",
       "      <td>...</td>\n",
       "      <td>10</td>\n",
       "      <td>16</td>\n",
       "      <td>96</td>\n",
       "      <td>65</td>\n",
       "      <td>7</td>\n",
       "      <td>82</td>\n",
       "      <td>11</td>\n",
       "      <td>9</td>\n",
       "      <td>22</td>\n",
       "      <td>39</td>\n",
       "    </tr>\n",
       "  </tbody>\n",
       "</table>\n",
       "<p>5 rows × 500 columns</p>\n",
       "</div>"
      ],
      "text/plain": [
       "   col0  col1  col2  col3  col4  col5  col6  col7  col8  col9  ...  col490  \\\n",
       "0    71    45    68    82    84    32    56    78    62    55  ...      97   \n",
       "1    24     5    70    48     8    19    82     7    17    18  ...      42   \n",
       "2    54    64    38    70    64    73    80    97     9    10  ...      30   \n",
       "3    86    54    59     9    87    23    73    88    69    15  ...      28   \n",
       "4    68    29    71    57    61    27    25     3    25    69  ...      10   \n",
       "\n",
       "   col491  col492  col493  col494  col495  col496  col497  col498  col499  \n",
       "0      41      93      57       9      70      77      62      69      21  \n",
       "1      34       2      54      40      68      36       9      89      41  \n",
       "2      44      73      14      63      99      84      17      49      92  \n",
       "3      74      38      22      58      84      86      48      76      47  \n",
       "4      16      96      65       7      82      11       9      22      39  \n",
       "\n",
       "[5 rows x 500 columns]"
      ]
     },
     "execution_count": 20,
     "metadata": {},
     "output_type": "execute_result"
    }
   ],
   "source": [
    "n_rows = 1000000\n",
    "n_cols = 500\n",
    "pandas_df = pd.DataFrame(np.random.randint(0, 100, size=(n_rows, n_cols)), columns=['col%d' % i for i in range(n_cols)])\n",
    "pandas_df.to_csv('final_data.csv', index=False)"
   ]
  },
  {
   "cell_type": "code",
   "execution_count": 15,
   "id": "36de868d-37a3-42b8-9927-45f26ce5ca98",
   "metadata": {},
   "outputs": [],
   "source": [
    "# this read the dataframe and make a copy of the file in hdf5 format \n",
    "df = vaex.from_csv('final_data.csv', convert=True, chunk_size=5_000_000) "
   ]
  },
  {
   "cell_type": "code",
   "execution_count": 141,
   "id": "93d2ce84-b7e7-41fb-a85c-de69b51e061a",
   "metadata": {},
   "outputs": [],
   "source": [
    "student = {'name': ['Tom Chan', 'Sam Cheung', 'Amy Chan', 'John Lee', 'Ben Wong', 'May Chan'], \n",
    "           'class': ['1A', '1A', '1B', '1B', '1C', '1C'], \n",
    "           'age':[12, 15, 12, 17, 7, 20], \n",
    "           'sex': ['M', 'M', 'F', 'M', 'M', 'F'],\n",
    "           'birthday':[datetime(1999,8,12), datetime(1999,1,12), datetime(1999,10,12), datetime(2000,8,20), datetime(2001,7,3), datetime(1999,11,26)], \n",
    "           'score': [76, 59, 79, 60, 71, 90], \n",
    "           'intro':['He is a good boy', 'He is a bad boy', 'She has long hair', 'He love maths', 'He feels happy', 'She is tall']}"
   ]
  },
  {
   "cell_type": "code",
   "execution_count": 142,
   "id": "66a953d5-5058-4700-b95b-0acd54f62826",
   "metadata": {},
   "outputs": [],
   "source": [
    "pandas_df = pd.DataFrame(student)"
   ]
  },
  {
   "cell_type": "code",
   "execution_count": 143,
   "id": "285f4ea0-71e0-40dd-a3f7-ca090532b84b",
   "metadata": {},
   "outputs": [],
   "source": [
    "df = vaex.from_pandas(pandas_df)"
   ]
  },
  {
   "cell_type": "code",
   "execution_count": 144,
   "id": "3180a6c6-65d0-4ac8-a791-f015f1292dcf",
   "metadata": {},
   "outputs": [
    {
     "data": {
      "text/html": [
       "<div>\n",
       "<style scoped>\n",
       "    .dataframe tbody tr th:only-of-type {\n",
       "        vertical-align: middle;\n",
       "    }\n",
       "\n",
       "    .dataframe tbody tr th {\n",
       "        vertical-align: top;\n",
       "    }\n",
       "\n",
       "    .dataframe thead th {\n",
       "        text-align: right;\n",
       "    }\n",
       "</style>\n",
       "<table border=\"1\" class=\"dataframe\">\n",
       "  <thead>\n",
       "    <tr style=\"text-align: right;\">\n",
       "      <th></th>\n",
       "      <th>age</th>\n",
       "      <th>birthday</th>\n",
       "      <th>score</th>\n",
       "    </tr>\n",
       "  </thead>\n",
       "  <tbody>\n",
       "    <tr>\n",
       "      <th>data_type</th>\n",
       "      <td>int64</td>\n",
       "      <td>datetime64[ns]</td>\n",
       "      <td>int64</td>\n",
       "    </tr>\n",
       "    <tr>\n",
       "      <th>count</th>\n",
       "      <td>6</td>\n",
       "      <td>6</td>\n",
       "      <td>6</td>\n",
       "    </tr>\n",
       "    <tr>\n",
       "      <th>NA</th>\n",
       "      <td>0</td>\n",
       "      <td>0</td>\n",
       "      <td>0</td>\n",
       "    </tr>\n",
       "    <tr>\n",
       "      <th>mean</th>\n",
       "      <td>13.833333333333334</td>\n",
       "      <td>2000-01-29T00:00:00.000000000</td>\n",
       "      <td>72.5</td>\n",
       "    </tr>\n",
       "    <tr>\n",
       "      <th>std</th>\n",
       "      <td>4.139914</td>\n",
       "      <td>25037571153769892.0</td>\n",
       "      <td>10.812801</td>\n",
       "    </tr>\n",
       "    <tr>\n",
       "      <th>min</th>\n",
       "      <td>7</td>\n",
       "      <td>1999-01-12T00:00:06.928662528</td>\n",
       "      <td>59</td>\n",
       "    </tr>\n",
       "    <tr>\n",
       "      <th>max</th>\n",
       "      <td>20</td>\n",
       "      <td>2001-07-03T00:00:21.731868672</td>\n",
       "      <td>90</td>\n",
       "    </tr>\n",
       "  </tbody>\n",
       "</table>\n",
       "</div>"
      ],
      "text/plain": [
       "                          age                       birthday      score\n",
       "data_type               int64                 datetime64[ns]      int64\n",
       "count                       6                              6          6\n",
       "NA                          0                              0          0\n",
       "mean       13.833333333333334  2000-01-29T00:00:00.000000000       72.5\n",
       "std                  4.139914            25037571153769892.0  10.812801\n",
       "min                         7  1999-01-12T00:00:06.928662528         59\n",
       "max                        20  2001-07-03T00:00:21.731868672         90"
      ]
     },
     "execution_count": 144,
     "metadata": {},
     "output_type": "execute_result"
    }
   ],
   "source": [
    "df.describe(strings=False)"
   ]
  },
  {
   "cell_type": "code",
   "execution_count": 145,
   "id": "37f5ccf0-f398-494b-8d53-4dc70861513a",
   "metadata": {},
   "outputs": [
    {
     "data": {
      "text/plain": [
       "'marks'"
      ]
     },
     "execution_count": 145,
     "metadata": {},
     "output_type": "execute_result"
    }
   ],
   "source": [
    "df.rename('score', 'marks')"
   ]
  },
  {
   "cell_type": "code",
   "execution_count": 146,
   "id": "3a50a433-e313-48f4-bbf9-8caa2c4220df",
   "metadata": {},
   "outputs": [
    {
     "data": {
      "text/plain": [
       "1C    2\n",
       "1B    2\n",
       "1A    2\n",
       "dtype: int64"
      ]
     },
     "execution_count": 146,
     "metadata": {},
     "output_type": "execute_result"
    }
   ],
   "source": [
    "df['class'].value_counts()"
   ]
  },
  {
   "cell_type": "code",
   "execution_count": 127,
   "id": "61ecb3e1-fde1-4bb9-bc74-261bd4991ad4",
   "metadata": {},
   "outputs": [],
   "source": [
    "df['grading'] = df.func.where(df['marks'] >= 70, 'Pass', 'Fail')"
   ]
  },
  {
   "cell_type": "code",
   "execution_count": 128,
   "id": "c497ba68-49af-4558-899b-35253e74cdb6",
   "metadata": {},
   "outputs": [
    {
     "data": {
      "text/plain": [
       "array(135, dtype=int64)"
      ]
     },
     "execution_count": 128,
     "metadata": {},
     "output_type": "execute_result"
    }
   ],
   "source": [
    "df[df['class']=='1A'].sum('marks')"
   ]
  },
  {
   "cell_type": "code",
   "execution_count": 130,
   "id": "e786c1dc-e164-4bd3-927e-4a62465c8c4f",
   "metadata": {},
   "outputs": [],
   "source": [
    "df['year'] = df['birthday'].dt.year"
   ]
  },
  {
   "cell_type": "code",
   "execution_count": 138,
   "id": "387f3f54-8927-40c9-a1a3-4283522f8909",
   "metadata": {},
   "outputs": [
    {
     "data": {
      "text/html": [
       "<table>\n",
       "<thead>\n",
       "<tr><th>#                            </th><th>sex  </th><th style=\"text-align: right;\">  marks</th></tr>\n",
       "</thead>\n",
       "<tbody>\n",
       "<tr><td><i style='opacity: 0.6'>0</i></td><td>M    </td><td style=\"text-align: right;\">    266</td></tr>\n",
       "<tr><td><i style='opacity: 0.6'>1</i></td><td>F    </td><td style=\"text-align: right;\">    169</td></tr>\n",
       "</tbody>\n",
       "</table>"
      ],
      "text/plain": [
       "  #  sex      marks\n",
       "  0  M          266\n",
       "  1  F          169"
      ]
     },
     "execution_count": 138,
     "metadata": {},
     "output_type": "execute_result"
    }
   ],
   "source": [
    "df.groupby('sex', agg={'marks':'sum'})"
   ]
  },
  {
   "cell_type": "code",
   "execution_count": 159,
   "id": "92a67f76-1e95-4951-aeb5-df2e69373a8f",
   "metadata": {},
   "outputs": [
    {
     "data": {
      "text/plain": [
       "array([1, 4, 1, 0, 0, 0, 0, 0, 0, 0], dtype=int64)"
      ]
     },
     "execution_count": 159,
     "metadata": {},
     "output_type": "execute_result"
    }
   ],
   "source": [
    "df.count(binby=df['age'], limits=[0, 100], shape=10)"
   ]
  },
  {
   "cell_type": "code",
   "execution_count": 150,
   "id": "3f6261a8-8e4a-43aa-8171-1b6eeaedcb51",
   "metadata": {},
   "outputs": [
    {
     "data": {
      "text/plain": [
       "Expression = str_len(intro)\n",
       "Length: 6 dtype: int64 (expression)\n",
       "-----------------------------------\n",
       "0  16\n",
       "1  15\n",
       "2  17\n",
       "3  13\n",
       "4  14\n",
       "5  11"
      ]
     },
     "execution_count": 150,
     "metadata": {},
     "output_type": "execute_result"
    }
   ],
   "source": [
    "df['intro'].str.len()"
   ]
  },
  {
   "cell_type": "code",
   "execution_count": null,
   "id": "d097f22c-b20e-4358-ad60-057d027a176d",
   "metadata": {},
   "outputs": [],
   "source": []
  }
 ],
 "metadata": {
  "kernelspec": {
   "display_name": "Python 3 (ipykernel)",
   "language": "python",
   "name": "python3"
  },
  "language_info": {
   "codemirror_mode": {
    "name": "ipython",
    "version": 3
   },
   "file_extension": ".py",
   "mimetype": "text/x-python",
   "name": "python",
   "nbconvert_exporter": "python",
   "pygments_lexer": "ipython3",
   "version": "3.9.12"
  }
 },
 "nbformat": 4,
 "nbformat_minor": 5
}
